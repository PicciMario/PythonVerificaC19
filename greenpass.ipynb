{
 "cells": [
  {
   "cell_type": "code",
   "execution_count": 1,
   "id": "123fbd52-5ada-4ae9-8dd9-f58bdd2e4bdf",
   "metadata": {},
   "outputs": [],
   "source": [
    "#pip install Pillow\n",
    "#pip install opencv-python\n",
    "#pip install pyzbar\n",
    "#pip install base45\n",
    "#pip install cryptography\n",
    "#pip install cose\n",
    "#pip install cbor2"
   ]
  },
  {
   "cell_type": "code",
   "execution_count": 2,
   "id": "ed9b4d69-4cd2-468b-ad20-e9672c9f3753",
   "metadata": {},
   "outputs": [],
   "source": [
    "from pyzbar.pyzbar import decode\n",
    "import cv2\n",
    "import zlib\n",
    "import base45\n",
    "from base64 import b64decode, b64encode\n",
    "import cbor2\n",
    "import json\n",
    "from urllib.request import urlopen\n",
    "import urllib\n",
    "import ssl\n",
    "import OpenSSL.crypto\n",
    "\n",
    "from cryptography import x509\n",
    "from cryptography.utils import int_to_bytes\n",
    "from cryptography.hazmat.primitives import hashes\n",
    "from cryptography.hazmat.primitives.asymmetric.ec import EllipticCurvePublicKey\n",
    "from cryptography.hazmat.primitives.asymmetric.rsa import RSAPublicKey\n",
    "from cryptography.hazmat.primitives import serialization\n",
    "from cryptography.hazmat.primitives.asymmetric import ec\n",
    "\n",
    "from cose.messages import CoseMessage\n",
    "from cose.headers import KID, Algorithm\n",
    "from cose.keys import CoseKey\n",
    "from cose.keys.keytype import KtyEC2, KtyRSA\n",
    "from cose.keys.keyparam import KpKty, KpAlg, EC2KpX, EC2KpY, EC2KpCurve, RSAKpE, RSAKpN\n",
    "from cose.algorithms import Es256, EdDSA, Ps256\n",
    "from cose.keys.curves import P256\n",
    "\n",
    "from cryptography import x509\n",
    "from cryptography.hazmat.backends import default_backend\n",
    "\n",
    "import datetime"
   ]
  },
  {
   "cell_type": "markdown",
   "id": "fa8eb01a-7515-4ec5-b833-504e3d5b49ce",
   "metadata": {},
   "source": [
    "## Estrazione payload da QR Code"
   ]
  },
  {
   "cell_type": "code",
   "execution_count": 3,
   "id": "23b37624-fe9e-4bc3-8aeb-aaba07717ca0",
   "metadata": {},
   "outputs": [
    {
     "name": "stdout",
     "output_type": "stream",
     "text": [
      "b'6BFOXN%TS3DH+M8.IAS0RTAN:2MCID:D4YIJ%CM5*KR$PB2PK.IMWEO.1FJAF4INO4*J8OX4W$C2VL*LA 43/IE%TE6UG+ZE V1+GOT*O4U79YLY1S7HOPC5NDO-B5ET42HP6DPE65%PD0DJ WJO*QJZILDB523G*S2U2V8TQEDK8CKY2KPC9DLH*SUEDL*S VD6/D0SS*RS%VD$MTA6UQ.CD8CNED1HCD*S9:D:XIBEIVG39.19ADZ3EBKDHOJGDBDIT1NJGIA+OJ:CI-L3ZJA/3CZIJFVA1RO5VA81K0ECM8CXVDC8C 1JI7JSTNCA7G6M0/Q*DPZOOB95526FINVHMIL6-Z7WT4TJP7T4/YQE:73X77/RF/M.P4Z/5JINQ+MN/Q19QE8Q4A7E:7LYPLTQSV8*DOPCR5T4C941QU %V 9M2EWYF6.45OX6N3W/$KV1TBOU%7LNKEAIBM-IKRF%8WJC901F$5HZFV+%D2 634K0:KZ6ML-FOMDFAST4JCMNA%PQVMR80.0U*0'\n"
     ]
    }
   ],
   "source": [
    "filename = \"craxi.png\"\n",
    "img = cv2.imread(filename)\n",
    "gray_img = cv2.cvtColor(img, cv2.COLOR_BGR2GRAY)\n",
    "decoded = decode(gray_img)\n",
    "payload = decoded[0].data[4:]\n",
    "print(payload)"
   ]
  },
  {
   "cell_type": "markdown",
   "id": "95946a33-8160-469f-afe2-ab8a31da64a2",
   "metadata": {},
   "source": [
    "## Decodifica B45 e decompressione"
   ]
  },
  {
   "cell_type": "code",
   "execution_count": 4,
   "id": "52104280-a961-48df-a4a4-f77d6ea84537",
   "metadata": {},
   "outputs": [
    {
     "name": "stdout",
     "output_type": "stream",
     "text": [
      "b'\\xd2\\x84M\\xa2\\x04H\\x1e\\x19\\x1e\\xaa\\xfa\\xedCE\\x01&\\xa0Y\\x01\\x03\\xa4\\x04\\x1adp\\x9d\\xa6\\x06\\x1aa\\x82\\xc5\\xbc\\x01bPL9\\x01\\x03\\xa1\\x01\\xa4av\\x81\\xaabdn\\x01bmamORG-100001417bvpgJ07BX03bdtj2021-10-01bcobPLbcix1URN:UVCI:01:PL:1/2A992C33754A4D379A7F61089485BB75bmplEU/1/20/1525bisqCentrum e-Zdrowiabsd\\x01btgi840539006cnam\\xa4cfnteCRAXIbfneCraxicgntgBETTINObgngBettinocvere1.0.0cdobj1934-02-24X@d!\\xe1\\x9f\\x90\\xeb\\xf7\\xf8\\x94\\x9bRj\\xab\\x06\\x7f\\xbebS\\xa7]_Y\\xca\\xf9\\n9;\\x82v\\xae\\xe5\\xcf\\xdd4QkZ\\xf0\\xfe\\xdfO={(6\\xe7.d\\x0f\\xaf5\\xe8\\xea\\xb4\\xfd\\xb2\\xd2A\\x0b\\x067\\rkc'\n"
     ]
    }
   ],
   "source": [
    "decoded = base45.b45decode(payload)\n",
    "decompressed = zlib.decompress(decoded)\n",
    "print(decompressed)"
   ]
  },
  {
   "cell_type": "markdown",
   "id": "a4cf4c69-1121-4210-9007-b49c094a1956",
   "metadata": {},
   "source": [
    "## Decodifica messaggio COSE"
   ]
  },
  {
   "cell_type": "code",
   "execution_count": 5,
   "id": "ecc957e1-6660-40c2-990d-61647d5a11cd",
   "metadata": {},
   "outputs": [
    {
     "data": {
      "text/plain": [
       "<COSE_Sign1: [{'KID': b'\\x1e\\x19\\x1e\\xaa\\xfa\\xedCE', 'Algorithm': 'Es256'}, {}, b'\\xa4\\x04\\x1adp' ... (259 B), b'd!\\xe1\\x9f\\x90' ... (64 B)]>"
      ]
     },
     "execution_count": 5,
     "metadata": {},
     "output_type": "execute_result"
    }
   ],
   "source": [
    "cose_message = CoseMessage.decode(decompressed)\n",
    "algorithm = cose_message.get_attr(Algorithm).fullname\n",
    "kid = cose_message.get_attr(KID)\n",
    "cose_message"
   ]
  },
  {
   "cell_type": "markdown",
   "id": "fe37b66e-e73a-4e58-8b2c-122725ffcfad",
   "metadata": {},
   "source": [
    "## Messaggio CBOR in payload COSE"
   ]
  },
  {
   "cell_type": "code",
   "execution_count": 6,
   "id": "3eb0b713-091c-4902-a875-744ce43b21dc",
   "metadata": {},
   "outputs": [
    {
     "name": "stdout",
     "output_type": "stream",
     "text": [
      " Vaccination Group\n",
      "   Dose Number : 1\n",
      "   Marketing Authorization Holder : ORG-100001417\n",
      "   vaccine or prophylaxis : J07BX03\n",
      "   ISO8601 complete date: Date of Vaccination : 2021-10-01\n",
      "   Country of Vaccination : PL\n",
      "   Unique Certificate Identifier: UVCI : URN:UVCI:01:PL:1/2A992C33754A4D379A7F61089485BB75\n",
      "   vaccine medicinal product : EU/1/20/1525\n",
      "   Certificate Issuer : Centrum e-Zdrowia\n",
      "   Total Series of Doses : 1\n",
      "   disease or agent targeted : 840539006\n",
      " Surname(s), forename(s)\n",
      "   Standardised surname : CRAXI\n",
      "   Surname : Craxi\n",
      "   Standardised forename : BETTINO\n",
      "   Forename : Bettino\n",
      " Schema version : 1.0.0\n",
      " Date of birth : 1934-02-24\n"
     ]
    }
   ],
   "source": [
    "#print(json.dumps(cbor2.loads(cose.payload), indent=2))\n",
    "\n",
    "# from Tobias Girstmair (https://gir.st)\n",
    "# https://gist.github.com/dsoares/dbd784615defd8800e93e4df4c783ce1\n",
    "\n",
    "sch = urlopen('https://raw.githubusercontent.com/ehn-dcc-development/ehn-dcc-schema/release/1.3.0/DCC.combined-schema.json')\n",
    "glb_schema = json.load(sch)\n",
    "\n",
    "def annotate(data, schema, level=0):\n",
    "    for key, value in data.items():\n",
    "        description = schema[key].get('title') or schema[key].get('description') or key\n",
    "        description, _, _ = description.partition(' - ')\n",
    "        if type(value) is dict:\n",
    "            print('  '*level, description)\n",
    "            _, _, sch_ref = schema[key]['$ref'].rpartition('/')\n",
    "            annotate(value, glb_schema['$defs'][sch_ref]['properties'], level+1)\n",
    "        elif type(value) is list:\n",
    "            print('  '*level, description)\n",
    "            _, _, sch_ref = schema[key]['items']['$ref'].rpartition('/')\n",
    "            for v in value:\n",
    "                annotate(v, glb_schema['$defs'][sch_ref]['properties'], level+1)\n",
    "        else: # value is scalar\n",
    "            print('  '*level, description, ':', value)\n",
    "\n",
    "data = cbor2.loads(cose_message.payload)\n",
    "annotate(data[-260][1], glb_schema['properties'])"
   ]
  },
  {
   "cell_type": "markdown",
   "id": "57546b25-946b-40ed-bffc-073d2b7635d2",
   "metadata": {},
   "source": [
    "## Recupero chiavi pubbliche"
   ]
  },
  {
   "cell_type": "code",
   "execution_count": 7,
   "id": "ace31b03-bee5-4a55-bbc7-7fb412728726",
   "metadata": {},
   "outputs": [],
   "source": [
    "url = 'https://get.dgc.gov.it/v1/dgc/signercertificate/update'\n",
    "token = ''\n",
    "\n",
    "certificates = {}\n",
    "x509_collection = {}\n",
    "\n",
    "while True:\n",
    "    \n",
    "    request = urllib.request.Request(url)\n",
    "    if (token):\n",
    "        request.add_header('X-RESUME-TOKEN', token)\n",
    "        \n",
    "    with urlopen(request) as keyfile:\n",
    "        \n",
    "        key = keyfile.read()\n",
    "        if (not key): break\n",
    "        token = keyfile.getheader('X-RESUME-TOKEN')\n",
    "        b64kid = keyfile.getheader('X-KID')\n",
    "        \n",
    "        #print(keyfile.getheaders())\n",
    "        \n",
    "        deckey = b64decode(key)\n",
    "        x509 = OpenSSL.crypto.load_certificate(OpenSSL.crypto.FILETYPE_ASN1, deckey)\n",
    "        x509_collection[b64kid] = x509\n",
    "        pk_data = x509.get_pubkey()\n",
    "        \n",
    "        pub_key = OpenSSL.crypto.dump_publickey(OpenSSL.crypto.FILETYPE_ASN1, pk_data)\n",
    "        pub = serialization.load_der_public_key(pub_key)\n",
    "        \n",
    "        # key types: https://pycose.readthedocs.io/en/latest/cose/keys/keytype.html\n",
    "        # key parameters: https://pycose.readthedocs.io/en/latest/cose/keys/keyparam.html\n",
    "        if (isinstance(pub, EllipticCurvePublicKey)):\n",
    "            # ECDSA SHA256\n",
    "            # curves: https://pycose.readthedocs.io/en/latest/cose/keys/curves.html\n",
    "            certificates[b64kid] = CoseKey.from_dict({\n",
    "                KpKty: KtyEC2,\n",
    "                KpAlg: Es256,\n",
    "                EC2KpCurve: P256,\n",
    "                EC2KpX: pub.public_numbers().x.to_bytes(32, byteorder=\"big\"),\n",
    "                EC2KpY: pub.public_numbers().y.to_bytes(32, byteorder=\"big\")\n",
    "            })    \n",
    "        elif (isinstance(pub, RSAPublicKey)):\n",
    "            # RSSA-PSS SHA-56 MFG1\n",
    "            certificates[b64kid] = CoseKey.from_dict({\n",
    "                KpKty: KtyRSA,\n",
    "                KpAlg: Ps256, \n",
    "                RSAKpE: int_to_bytes(pub.public_numbers().e),\n",
    "                RSAKpN: int_to_bytes(pub.public_numbers().n)\n",
    "            })\n",
    "        else:\n",
    "              print(f\"Tipo chiave sconosciuto {pub.__class__.__name__}).\")          "
   ]
  },
  {
   "cell_type": "code",
   "execution_count": 8,
   "id": "18773422-1b06-4f08-be53-fb8941abde01",
   "metadata": {},
   "outputs": [
    {
     "name": "stdout",
     "output_type": "stream",
     "text": [
      "KID: HhkeqvrtQ0U=\n",
      "Country: PL\n",
      "Common name: Poland DGC RootCSCA 1\n",
      "Organization: Ministry of Health\n",
      "Valido da: 2021-05-26 11:53:10\n",
      "Valido fino a: 2023-05-26 11:53:10\n"
     ]
    }
   ],
   "source": [
    "# Trova chiave corretta per certificato\n",
    "kid = b64encode(cose_message.get_attr(KID)).decode('ASCII')\n",
    "pk_to_use = certificates[kid]\n",
    "\n",
    "#Stampa attributi chiave trovata\n",
    "print(f\"KID: {kid}\")\n",
    "iss = x509_collection[kid].get_issuer().get_components()\n",
    "c = [(x.decode('UTF-8'), y.decode('UTF-8')) for (x,y) in iss if x.decode('UTF-8') == \"C\"]\n",
    "if(c): print(f\"Country: {c[0][1]}\")\n",
    "cn = [(x.decode('UTF-8'), y.decode('UTF-8')) for (x,y) in iss if x.decode('UTF-8') == \"CN\"]\n",
    "if(cn): print(f\"Common name: {cn[0][1]}\")\n",
    "o = [(x.decode('UTF-8'), y.decode('UTF-8')) for (x,y) in iss if x.decode('UTF-8') == \"O\"]\n",
    "if(o): print(f\"Organization: {o[0][1]}\")   \n",
    "\n",
    "valid_from = datetime.datetime.strptime(x509_collection[kid].get_notBefore().decode('ASCII'),\"%Y%m%d%H%M%SZ\")\n",
    "print(f\"Valido da: {valid_from}\")\n",
    "valid_to = datetime.datetime.strptime(x509_collection[kid].get_notAfter().decode('ASCII'),\"%Y%m%d%H%M%SZ\")\n",
    "print(f\"Valido fino a: {valid_to}\")"
   ]
  },
  {
   "cell_type": "code",
   "execution_count": 9,
   "id": "6c31fa9d-4504-4dc7-b710-fbcddf309345",
   "metadata": {},
   "outputs": [
    {
     "name": "stdout",
     "output_type": "stream",
     "text": [
      "Firma valida\n"
     ]
    }
   ],
   "source": [
    "cose_message.key = pk_to_use\n",
    "if not cose_message.verify_signature():\n",
    "    print(\"Firma NON valida\")\n",
    "else:\n",
    "    print(\"Firma valida\")"
   ]
  },
  {
   "cell_type": "markdown",
   "id": "df246f00-3375-4ab2-9b11-d737e49ade47",
   "metadata": {},
   "source": [
    "## Verifica lista revoca chiavi"
   ]
  },
  {
   "cell_type": "code",
   "execution_count": 10,
   "id": "f7a9653c-6fad-4e26-8d3e-aa323af162ee",
   "metadata": {},
   "outputs": [
    {
     "name": "stdout",
     "output_type": "stream",
     "text": [
      "Certificato valido\n"
     ]
    }
   ],
   "source": [
    "valid_url = 'https://get.dgc.gov.it/v1/dgc/signercertificate/status'\n",
    "valid_list = []\n",
    "with urlopen(valid_url) as valid_file:\n",
    "    valid_list = valid_file.read()\n",
    "    valid_list = json.loads(valid_list.decode('ASCII'))\n",
    "\n",
    "if (kid not in valid_list):\n",
    "    print(\"Certificato revocato\")\n",
    "else:\n",
    "    print(\"Certificato valido\")"
   ]
  },
  {
   "cell_type": "markdown",
   "id": "f204c6c3-b621-4bbf-9163-be63b211043b",
   "metadata": {},
   "source": [
    "## Verifica lsta revoca certificati"
   ]
  },
  {
   "cell_type": "code",
   "execution_count": 12,
   "id": "39159234-374d-46e0-b537-96d7f3b90197",
   "metadata": {},
   "outputs": [
    {
     "name": "stdout",
     "output_type": "stream",
     "text": [
      "Green Pass revocato\n"
     ]
    }
   ],
   "source": [
    "settings_url = 'https://get.dgc.gov.it/v1/dgc/settings'\n",
    "revoked_list =[]\n",
    "\n",
    "with urlopen(settings_url) as settings_file:\n",
    "    settings = settings_file.read()\n",
    "    settings = json.loads(settings.decode('UTF-8'))\n",
    "    \n",
    "    revoked_data = [x for x in settings if x['name'] == 'black_list_uvci']    \n",
    "    if (revoked_data): revoked_list = revoked_data[0]['value'].split(';')\n",
    "\n",
    "gp_id = data[-260][1]['v'][0]['ci']\n",
    "\n",
    "if (gp_id in revoked_list):\n",
    "    print(\"Green Pass revocato\")\n",
    "else:\n",
    "    print(\"Green Pass valido\")"
   ]
  }
 ],
 "metadata": {
  "kernelspec": {
   "display_name": "Python 3 (ipykernel)",
   "language": "python",
   "name": "python3"
  },
  "language_info": {
   "codemirror_mode": {
    "name": "ipython",
    "version": 3
   },
   "file_extension": ".py",
   "mimetype": "text/x-python",
   "name": "python",
   "nbconvert_exporter": "python",
   "pygments_lexer": "ipython3",
   "version": "3.9.7"
  }
 },
 "nbformat": 4,
 "nbformat_minor": 5
}
